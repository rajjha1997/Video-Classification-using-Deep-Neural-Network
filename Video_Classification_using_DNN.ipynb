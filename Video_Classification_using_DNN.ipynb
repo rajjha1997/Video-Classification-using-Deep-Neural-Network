{
  "nbformat": 4,
  "nbformat_minor": 0,
  "metadata": {
    "colab": {
      "name": "ML_Project_Video_Representation.ipynb",
      "provenance": [],
      "collapsed_sections": []
    },
    "kernelspec": {
      "name": "python3",
      "display_name": "Python 3"
    },
    "language_info": {
      "name": "python"
    },
    "accelerator": "GPU"
  },
  "cells": [
    {
      "cell_type": "code",
      "metadata": {
        "id": "RpI388ylAJwN"
      },
      "source": [
        ""
      ],
      "execution_count": null,
      "outputs": []
    },
    {
      "cell_type": "code",
      "metadata": {
        "colab": {
          "base_uri": "https://localhost:8080/"
        },
        "id": "1lvKXTv2AgKW",
        "outputId": "2f83e2ca-3005-405c-895f-c95d56e83032"
      },
      "source": [
        "from google.colab import drive\n",
        "drive.mount('/content/drive')"
      ],
      "execution_count": 2,
      "outputs": [
        {
          "output_type": "stream",
          "text": [
            "Mounted at /content/drive\n"
          ],
          "name": "stdout"
        }
      ]
    },
    {
      "cell_type": "markdown",
      "metadata": {
        "id": "OyW9njPsB663"
      },
      "source": [
        "# **Importing necessary modules**"
      ]
    },
    {
      "cell_type": "code",
      "metadata": {
        "id": "iweWv9oQB0OK"
      },
      "source": [
        ""
      ],
      "execution_count": 2,
      "outputs": []
    },
    {
      "cell_type": "code",
      "metadata": {
        "id": "lOvBIjmiCDNH",
        "colab": {
          "base_uri": "https://localhost:8080/"
        },
        "outputId": "01c8b0a4-8550-408e-c268-5f483953c7ce"
      },
      "source": [
        "import os\n",
        "import cv2\n",
        "import numpy as np\n",
        "import random\n",
        "import tensorflow as tf\n",
        "from moviepy.editor import *"
      ],
      "execution_count": 3,
      "outputs": [
        {
          "output_type": "stream",
          "text": [
            "Imageio: 'ffmpeg-linux64-v3.3.1' was not found on your computer; downloading it now.\n",
            "Try 1. Download from https://github.com/imageio/imageio-binaries/raw/master/ffmpeg/ffmpeg-linux64-v3.3.1 (43.8 MB)\n",
            "Downloading: 8192/45929032 bytes (0.0%)\b\b\b\b\b\b\b\b\b\b\b\b\b\b\b\b\b\b\b\b\b\b\b\b\b\b3293184/45929032 bytes (7.2%)\b\b\b\b\b\b\b\b\b\b\b\b\b\b\b\b\b\b\b\b\b\b\b\b\b\b\b\b\b6987776/45929032 bytes (15.2%)\b\b\b\b\b\b\b\b\b\b\b\b\b\b\b\b\b\b\b\b\b\b\b\b\b\b\b\b\b\b10543104/45929032 bytes (23.0%)\b\b\b\b\b\b\b\b\b\b\b\b\b\b\b\b\b\b\b\b\b\b\b\b\b\b\b\b\b\b\b14450688/45929032 bytes (31.5%)\b\b\b\b\b\b\b\b\b\b\b\b\b\b\b\b\b\b\b\b\b\b\b\b\b\b\b\b\b\b\b18178048/45929032 bytes (39.6%)\b\b\b\b\b\b\b\b\b\b\b\b\b\b\b\b\b\b\b\b\b\b\b\b\b\b\b\b\b\b\b22077440/45929032 bytes (48.1%)\b\b\b\b\b\b\b\b\b\b\b\b\b\b\b\b\b\b\b\b\b\b\b\b\b\b\b\b\b\b\b25608192/45929032 bytes (55.8%)\b\b\b\b\b\b\b\b\b\b\b\b\b\b\b\b\b\b\b\b\b\b\b\b\b\b\b\b\b\b\b29474816/45929032 bytes (64.2%)\b\b\b\b\b\b\b\b\b\b\b\b\b\b\b\b\b\b\b\b\b\b\b\b\b\b\b\b\b\b\b33275904/45929032 bytes (72.5%)\b\b\b\b\b\b\b\b\b\b\b\b\b\b\b\b\b\b\b\b\b\b\b\b\b\b\b\b\b\b\b37076992/45929032 bytes (80.7%)\b\b\b\b\b\b\b\b\b\b\b\b\b\b\b\b\b\b\b\b\b\b\b\b\b\b\b\b\b\b\b40943616/45929032 bytes (89.1%)\b\b\b\b\b\b\b\b\b\b\b\b\b\b\b\b\b\b\b\b\b\b\b\b\b\b\b\b\b\b\b44859392/45929032 bytes (97.7%)\b\b\b\b\b\b\b\b\b\b\b\b\b\b\b\b\b\b\b\b\b\b\b\b\b\b\b\b\b\b\b45929032/45929032 bytes (100.0%)\n",
            "  Done\n",
            "File saved as /root/.imageio/ffmpeg/ffmpeg-linux64-v3.3.1.\n"
          ],
          "name": "stdout"
        }
      ]
    },
    {
      "cell_type": "code",
      "metadata": {
        "colab": {
          "base_uri": "https://localhost:8080/"
        },
        "id": "X9lTasmGpeAI",
        "outputId": "b765b9f5-5165-4ec4-f922-bcc9ba79517b"
      },
      "source": [
        "pip install np_utils"
      ],
      "execution_count": 4,
      "outputs": [
        {
          "output_type": "stream",
          "text": [
            "Collecting np_utils\n",
            "\u001b[?25l  Downloading https://files.pythonhosted.org/packages/b6/18/5704a782fd72727a9e63198fcc76fadb86975f45bcdf579c10f668329508/np_utils-0.5.12.1.tar.gz (61kB)\n",
            "\r\u001b[K     |█████▍                          | 10kB 18.8MB/s eta 0:00:01\r\u001b[K     |██████████▊                     | 20kB 22.9MB/s eta 0:00:01\r\u001b[K     |████████████████                | 30kB 23.3MB/s eta 0:00:01\r\u001b[K     |█████████████████████▍          | 40kB 24.7MB/s eta 0:00:01\r\u001b[K     |██████████████████████████▊     | 51kB 26.0MB/s eta 0:00:01\r\u001b[K     |████████████████████████████████| 61kB 8.0MB/s \n",
            "\u001b[?25hRequirement already satisfied: numpy>=1.0 in /usr/local/lib/python3.7/dist-packages (from np_utils) (1.19.5)\n",
            "Requirement already satisfied: future>=0.16 in /usr/local/lib/python3.7/dist-packages (from np_utils) (0.16.0)\n",
            "Building wheels for collected packages: np-utils\n",
            "  Building wheel for np-utils (setup.py) ... \u001b[?25l\u001b[?25hdone\n",
            "  Created wheel for np-utils: filename=np_utils-0.5.12.1-cp37-none-any.whl size=57133 sha256=b678a3db9686b1187be5e3ad755f4142f95644aadd8b06aaac0296fb2c9c70cb\n",
            "  Stored in directory: /root/.cache/pip/wheels/92/4b/81/206efd0d01330a96f3aebe5021d2d5f0b264b7ade827c306ef\n",
            "Successfully built np-utils\n",
            "Installing collected packages: np-utils\n",
            "Successfully installed np-utils-0.5.12.1\n"
          ],
          "name": "stdout"
        }
      ]
    },
    {
      "cell_type": "code",
      "metadata": {
        "id": "mZpRUo0gpkwG"
      },
      "source": [
        "from tensorflow.keras.utils import to_categorical"
      ],
      "execution_count": 5,
      "outputs": []
    },
    {
      "cell_type": "code",
      "metadata": {
        "id": "kYhxQqI3C7wl"
      },
      "source": [
        "\n",
        "from tensorflow.keras.layers import *\n",
        "\n",
        "from tensorflow.keras.callbacks import EarlyStopping, ModelCheckpoint\n",
        "from tensorflow.keras.utils import plot_model"
      ],
      "execution_count": 6,
      "outputs": []
    },
    {
      "cell_type": "code",
      "metadata": {
        "id": "7ZPNt6ROD3D2"
      },
      "source": [
        "from keras.models import Sequential, Model"
      ],
      "execution_count": 7,
      "outputs": []
    },
    {
      "cell_type": "markdown",
      "metadata": {
        "id": "_fWt-Dq3Dmso"
      },
      "source": [
        "## **Setting up numpy and Tensorflow seeds to get consistent results.**"
      ]
    },
    {
      "cell_type": "code",
      "metadata": {
        "id": "DlltBMGyDzNA"
      },
      "source": [
        "seed_constant = 23\n",
        "np.random.seed(seed_constant)\n",
        "random.seed(seed_constant)\n",
        "tf.random.set_seed(seed_constant)"
      ],
      "execution_count": 8,
      "outputs": []
    },
    {
      "cell_type": "code",
      "metadata": {
        "id": "59MJR_M8EL3b"
      },
      "source": [
        ""
      ],
      "execution_count": 8,
      "outputs": []
    },
    {
      "cell_type": "markdown",
      "metadata": {
        "id": "CbPxhc5QEMkZ"
      },
      "source": [
        "# **Data Preparation**"
      ]
    },
    {
      "cell_type": "markdown",
      "metadata": {
        "id": "g-3IABJDE5Hm"
      },
      "source": [
        "\n",
        "\n",
        "*   *image_height and image_weight: Dimension of each frame of videos*\n",
        "*   *max_seq_length: Number of images passed as one sequence i.e. 2000 frames per video*\n",
        "\n"
      ]
    },
    {
      "cell_type": "code",
      "metadata": {
        "id": "ixXdLewAAg02"
      },
      "source": [
        "data_dir = \"/content/drive/MyDrive/ML_Project/UCF50\"\n",
        "image_height , image_width = 64, 64\n",
        "max_seq_length = 2000"
      ],
      "execution_count": 9,
      "outputs": []
    },
    {
      "cell_type": "markdown",
      "metadata": {
        "id": "xxK6QV7fGpvL"
      },
      "source": [
        "The Dataset we are using is the **UCF50**\n",
        "\n",
        "UCF50 is an action recognition dataset which contains:\n",
        "\n",
        "  * 50 Action Categories consisting of realistic YouTube  videos\n",
        "  * 25 Groups of Videos per Action Category\n",
        "  * 133 Average Videos per Action Category\n",
        "  * 199 Average Number of Frames per Video\n",
        "  * 320 Average Frames Width per Video\n",
        "  * 240 Average Frames Height per Video\n",
        "  * 26 Average Frames Per Seconds per Video\n",
        "\n",
        "*But since it has 50 different categories which will take a very long time to train therefore we’ll be using only 6 classes.*"
      ]
    },
    {
      "cell_type": "code",
      "metadata": {
        "id": "iADOhVNuChjc"
      },
      "source": [
        "class_categories_list = [\"WalkingWithDog\", \"Basketball\", \"Swing\", \"HorseRace\", \"PushUps\", \"Rowing\", \"Diving\", \"Drumming\", \"GolfSwing\", \"JavelinThrow\", \"Kayaking\", \"PullUps\"]"
      ],
      "execution_count": 10,
      "outputs": []
    },
    {
      "cell_type": "code",
      "metadata": {
        "id": "nHO82PzdGVyw"
      },
      "source": [
        "model_output_length = len(class_categories_list)"
      ],
      "execution_count": 11,
      "outputs": []
    },
    {
      "cell_type": "code",
      "metadata": {
        "id": "QPOkTDTAGbTZ"
      },
      "source": [
        ""
      ],
      "execution_count": 11,
      "outputs": []
    },
    {
      "cell_type": "markdown",
      "metadata": {
        "id": "bJOt8uiwHYMt"
      },
      "source": [
        "# **Extraction of frames from videos.**"
      ]
    },
    {
      "cell_type": "code",
      "metadata": {
        "id": "MGJdB6HZHbDY"
      },
      "source": [
        "max_pixel_value = 255\n",
        "def extract_frame(video_path):\n",
        "  frames_list = []\n",
        "\n",
        "  #print(\" the video file path is : {}\".format(video_path))\n",
        "  videoObj = cv2.VideoCapture(video_path)\n",
        "  #print(\"the video object is: {}\".format(videoObj))\n",
        "\n",
        "  \"\"\" Iterating through Video Frames \"\"\"\n",
        "  while True:\n",
        "\n",
        "    # Reading a frame from the video file\n",
        "    success, image = videoObj.read()\n",
        "    #print(\"the value of success is: {}\".format(success))\n",
        "\n",
        "    if not success:\n",
        "      break\n",
        "\n",
        "    resized_frame = cv2.resize(image, (image_height, image_width))\n",
        "\n",
        "    \"\"\"Normalize the resized frame by dividing it with 255 so that \n",
        "    each pixel value then lies between 0 and 1\"\"\"\n",
        "\n",
        "    normalized_frame = resized_frame / max_pixel_value\n",
        "    frames_list.append(normalized_frame)\n",
        "\n",
        "    \n",
        "  videoObj.release()\n",
        "\n",
        "  return frames_list\n",
        "\n"
      ],
      "execution_count": 12,
      "outputs": []
    },
    {
      "cell_type": "markdown",
      "metadata": {
        "id": "AWQkA9HoKs7O"
      },
      "source": [
        "# **Dataset Creation**"
      ]
    },
    {
      "cell_type": "code",
      "metadata": {
        "id": "nvJCCcbBKXp8"
      },
      "source": [
        "def data_creation():\n",
        "\n",
        "  features, labels = list(), list()\n",
        "  temp_list = []\n",
        "\n",
        "  for class_index, class_name in enumerate(class_categories_list):\n",
        "\n",
        "    print(\"extraction of video frames from class -> {} with class index -> {}\".format(class_name, class_index))\n",
        "\n",
        "    # creating the list of videos for the current class\n",
        "    files_list = os.listdir(os.path.join(data_dir, class_name))\n",
        "\n",
        "    #print(\"files_list : {}\".format(files_list))\n",
        "\n",
        "    \"\"\"iteratively passing video files and extracting the frames from that file\"\"\"\n",
        "    for file in files_list:\n",
        "\n",
        "      video_file_path = os.path.join(data_dir, class_name, file)\n",
        "\n",
        "      #print(\"for file : {} the video files path are : {}\".format(file,video_file_path))\n",
        "\n",
        "      # Calling the frame_extraction method for every video_file_path\n",
        "      extracted_frames = extract_frame(os.path.join(os.path.join(data_dir, class_name), file))\n",
        "\n",
        "\n",
        "      \n",
        "      temp_list.extend(extracted_frames)\n",
        "\n",
        "  \n",
        "    features.extend(random.sample(temp_list, max_seq_length))\n",
        "    labels.extend([class_index] * max_seq_length)\n",
        "    temp_list.clear()\n",
        "\n",
        "\n",
        "  features =  np.asarray(features)\n",
        "  labels = np.asarray(labels)\n",
        "\n",
        "  return features, labels"
      ],
      "execution_count": 13,
      "outputs": []
    },
    {
      "cell_type": "markdown",
      "metadata": {
        "id": "AkDL7aZdO0T6"
      },
      "source": [
        "## calling **data_creation()** function to get features and labels of the data"
      ]
    },
    {
      "cell_type": "code",
      "metadata": {
        "colab": {
          "base_uri": "https://localhost:8080/"
        },
        "id": "k8gwyzq8Omdl",
        "outputId": "572f7abe-349c-4d86-d241-4f14eb35d461"
      },
      "source": [
        "features, labels = data_creation()"
      ],
      "execution_count": 14,
      "outputs": [
        {
          "output_type": "stream",
          "text": [
            "extraction of video frames from class -> WalkingWithDog with class index -> 0\n",
            "extraction of video frames from class -> Basketball with class index -> 1\n",
            "extraction of video frames from class -> Swing with class index -> 2\n",
            "extraction of video frames from class -> HorseRace with class index -> 3\n",
            "extraction of video frames from class -> PushUps with class index -> 4\n",
            "extraction of video frames from class -> Rowing with class index -> 5\n",
            "extraction of video frames from class -> Diving with class index -> 6\n",
            "extraction of video frames from class -> Drumming with class index -> 7\n",
            "extraction of video frames from class -> GolfSwing with class index -> 8\n",
            "extraction of video frames from class -> JavelinThrow with class index -> 9\n",
            "extraction of video frames from class -> Kayaking with class index -> 10\n",
            "extraction of video frames from class -> PullUps with class index -> 11\n"
          ],
          "name": "stdout"
        }
      ]
    },
    {
      "cell_type": "code",
      "metadata": {
        "colab": {
          "base_uri": "https://localhost:8080/"
        },
        "id": "6dvDDfWCU8oe",
        "outputId": "17ba6866-773e-437d-f085-8d98f1a6a6eb"
      },
      "source": [
        "print(\"the shape of the feature = {}\".format(features.shape))\n",
        "print(\"the shape of the labels = {}\".format(labels.shape))"
      ],
      "execution_count": 15,
      "outputs": [
        {
          "output_type": "stream",
          "text": [
            "the shape of the feature = (24000, 64, 64, 3)\n",
            "the shape of the labels = (24000,)\n"
          ],
          "name": "stdout"
        }
      ]
    },
    {
      "cell_type": "code",
      "metadata": {
        "id": "PwMsH2IOYpyN"
      },
      "source": [
        "# features_5D = features[np.newaxis, ...]"
      ],
      "execution_count": 16,
      "outputs": []
    },
    {
      "cell_type": "code",
      "metadata": {
        "id": "EZzChPRGYxh0"
      },
      "source": [
        "# features_5D.shape"
      ],
      "execution_count": 17,
      "outputs": []
    },
    {
      "cell_type": "markdown",
      "metadata": {
        "id": "tiZdMVV1bLzZ"
      },
      "source": [
        "## convert class labels to one hot encoded vectors"
      ]
    },
    {
      "cell_type": "code",
      "metadata": {
        "id": "njyNozd-ZtOs"
      },
      "source": [
        "# converting labels into one-hot-encoded vectors\n",
        "one_hot_encoded_labels = to_categorical(labels)"
      ],
      "execution_count": 18,
      "outputs": []
    },
    {
      "cell_type": "markdown",
      "metadata": {
        "id": "YQ2MHRJOcES-"
      },
      "source": [
        "# **Splitting the Data into Train and Test Sets**\n"
      ]
    },
    {
      "cell_type": "code",
      "metadata": {
        "id": "Y_9wu30vbc7U"
      },
      "source": [
        "from sklearn.model_selection import train_test_split\n",
        "features_train, features_test, labels_train, labels_test = train_test_split(features, one_hot_encoded_labels, \n",
        "                                                                            test_size = 0.2, \n",
        "                                                                            shuffle = True, \n",
        "                                                                            random_state = 0)"
      ],
      "execution_count": 19,
      "outputs": []
    },
    {
      "cell_type": "code",
      "metadata": {
        "colab": {
          "base_uri": "https://localhost:8080/"
        },
        "id": "XHhC-KyNwih8",
        "outputId": "68389f87-1f7c-403a-f8bd-f2eea0790f02"
      },
      "source": [
        "print(\"the shape of the feature = {}\".format(features_train.shape))\n",
        "print(\"the shape of the labels = {}\".format(labels_train.shape))"
      ],
      "execution_count": 20,
      "outputs": [
        {
          "output_type": "stream",
          "text": [
            "the shape of the feature = (19200, 64, 64, 3)\n",
            "the shape of the labels = (19200, 12)\n"
          ],
          "name": "stdout"
        }
      ]
    },
    {
      "cell_type": "code",
      "metadata": {
        "colab": {
          "base_uri": "https://localhost:8080/"
        },
        "id": "QCTFElkwuFFE",
        "outputId": "a2bccf55-603f-45d0-890a-138b84ab8690"
      },
      "source": [
        "print(\"the shape of the feature = {}\".format(features_test.shape))\n",
        "print(\"the shape of the labels = {}\".format(labels_test.shape))"
      ],
      "execution_count": 21,
      "outputs": [
        {
          "output_type": "stream",
          "text": [
            "the shape of the feature = (4800, 64, 64, 3)\n",
            "the shape of the labels = (4800, 12)\n"
          ],
          "name": "stdout"
        }
      ]
    },
    {
      "cell_type": "code",
      "metadata": {
        "id": "PDKdx7T9xGHx"
      },
      "source": [
        "features_train = features_train.reshape(19200, 1, 64, 64, 3)"
      ],
      "execution_count": 22,
      "outputs": []
    },
    {
      "cell_type": "code",
      "metadata": {
        "id": "fRWq331QiGAj"
      },
      "source": [
        "#features_train.shape"
      ],
      "execution_count": 23,
      "outputs": []
    },
    {
      "cell_type": "markdown",
      "metadata": {
        "id": "oX78TYNQcmDp"
      },
      "source": [
        "# **Designing the Model 1**"
      ]
    },
    {
      "cell_type": "markdown",
      "metadata": {
        "id": "oddZNGDQiqIv"
      },
      "source": [
        "One important thing to note that here we have set *return_sequences = False* because we are using many to one *LSTM architecture which will return the output not after every timestamp but only after the final timestamp.*"
      ]
    },
    {
      "cell_type": "code",
      "metadata": {
        "id": "an4gc7Y9cf2X"
      },
      "source": [
        "\n",
        "def create_model():\n",
        "  \n",
        "  model = Sequential()\n",
        "  input_shape = (None,image_height, image_width, 3)\n",
        "  model.add(ConvLSTM2D(filters = 64, padding = \"same\",  kernel_size = (3, 3), return_sequences = False, data_format = \"channels_last\", input_shape = (input_shape)))\n",
        "  model.add(Dropout(0.2))  \n",
        "  model.add(Flatten())\n",
        "  model.add(Dense(256, activation=\"relu\"))\n",
        "  model.add(Dropout(0.3))\n",
        "  model.add(Dense(12, activation = \"softmax\"))\n",
        "\n",
        "  \n",
        "  return model"
      ],
      "execution_count": 24,
      "outputs": []
    },
    {
      "cell_type": "code",
      "metadata": {
        "id": "8hA6HsGpeWJZ"
      },
      "source": [
        "model = create_model()"
      ],
      "execution_count": 25,
      "outputs": []
    },
    {
      "cell_type": "markdown",
      "metadata": {
        "id": "v2pPQ9ELg9Oi"
      },
      "source": [
        "# **Compiling the Model**\n"
      ]
    },
    {
      "cell_type": "code",
      "metadata": {
        "id": "9pmZkG0AgzXv"
      },
      "source": [
        "\n",
        "# Adding Early Stopping Callback\n",
        "early_stopping_callback = EarlyStopping(patience=7)\n",
        "callbacks = [early_stopping_callback]\n",
        "\n",
        "model.compile(loss='categorical_crossentropy', optimizer='Adam', metrics=[\"accuracy\"])"
      ],
      "execution_count": 26,
      "outputs": []
    },
    {
      "cell_type": "markdown",
      "metadata": {
        "id": "KJt0IQe5hsdS"
      },
      "source": [
        "# **Training the Model**"
      ]
    },
    {
      "cell_type": "code",
      "metadata": {
        "colab": {
          "base_uri": "https://localhost:8080/"
        },
        "id": "aFUnLddWhcY3",
        "outputId": "47dc0658-af69-4a90-fe40-52e42b7de534"
      },
      "source": [
        "# Start Training\n",
        "model_training_history = model.fit(x = features_train, \n",
        "                                   y = labels_train, \n",
        "                                   epochs = 12, \n",
        "                                   batch_size = 64 , \n",
        "                                   shuffle = True, \n",
        "                                   validation_split = 0.2, \n",
        "                                   callbacks = [early_stopping_callback])"
      ],
      "execution_count": 28,
      "outputs": [
        {
          "output_type": "stream",
          "text": [
            "Epoch 1/12\n",
            "240/240 [==============================] - 82s 142ms/step - loss: 2.0018 - accuracy: 0.4414 - val_loss: 0.5359 - val_accuracy: 0.8396\n",
            "Epoch 2/12\n",
            "240/240 [==============================] - 34s 141ms/step - loss: 0.4479 - accuracy: 0.8591 - val_loss: 0.2874 - val_accuracy: 0.9115\n",
            "Epoch 3/12\n",
            "240/240 [==============================] - 34s 143ms/step - loss: 0.2148 - accuracy: 0.9335 - val_loss: 0.2645 - val_accuracy: 0.9174\n",
            "Epoch 4/12\n",
            "240/240 [==============================] - 34s 141ms/step - loss: 0.1223 - accuracy: 0.9617 - val_loss: 0.2691 - val_accuracy: 0.9169\n",
            "Epoch 5/12\n",
            "240/240 [==============================] - 34s 140ms/step - loss: 0.1039 - accuracy: 0.9669 - val_loss: 0.2412 - val_accuracy: 0.9284\n",
            "Epoch 6/12\n",
            "240/240 [==============================] - 34s 141ms/step - loss: 0.0770 - accuracy: 0.9774 - val_loss: 0.2302 - val_accuracy: 0.9398\n",
            "Epoch 7/12\n",
            "240/240 [==============================] - 34s 141ms/step - loss: 0.0715 - accuracy: 0.9764 - val_loss: 0.2540 - val_accuracy: 0.9302\n",
            "Epoch 8/12\n",
            "240/240 [==============================] - 34s 141ms/step - loss: 0.0693 - accuracy: 0.9772 - val_loss: 0.2719 - val_accuracy: 0.9302\n",
            "Epoch 9/12\n",
            "240/240 [==============================] - 34s 141ms/step - loss: 0.0729 - accuracy: 0.9797 - val_loss: 0.3455 - val_accuracy: 0.9198\n",
            "Epoch 10/12\n",
            "240/240 [==============================] - 34s 141ms/step - loss: 0.0545 - accuracy: 0.9824 - val_loss: 0.2769 - val_accuracy: 0.9352\n",
            "Epoch 11/12\n",
            "240/240 [==============================] - 34s 142ms/step - loss: 0.0493 - accuracy: 0.9830 - val_loss: 0.3081 - val_accuracy: 0.9331\n",
            "Epoch 12/12\n",
            "240/240 [==============================] - 34s 142ms/step - loss: 0.0343 - accuracy: 0.9899 - val_loss: 0.2722 - val_accuracy: 0.9346\n"
          ],
          "name": "stdout"
        }
      ]
    },
    {
      "cell_type": "code",
      "metadata": {
        "colab": {
          "base_uri": "https://localhost:8080/"
        },
        "id": "XEgNs0TWcn7k",
        "outputId": "08983685-f6a8-4e62-8dab-75a47c593f3b"
      },
      "source": [
        "features_test.shape"
      ],
      "execution_count": 29,
      "outputs": [
        {
          "output_type": "execute_result",
          "data": {
            "text/plain": [
              "(4800, 64, 64, 3)"
            ]
          },
          "metadata": {
            "tags": []
          },
          "execution_count": 29
        }
      ]
    },
    {
      "cell_type": "code",
      "metadata": {
        "id": "wQjhGQepccin"
      },
      "source": [
        "features_test = features_test.reshape(4800,1, 64, 64, 3)"
      ],
      "execution_count": 30,
      "outputs": []
    },
    {
      "cell_type": "code",
      "metadata": {
        "id": "sDSrqCgQWEti"
      },
      "source": [
        "import datetime as dt\n",
        "\n",
        "model_evaluation_history = model.evaluate(features_test, labels_test)\n",
        "\n",
        "date_time_format = '%Y_%m_%d__%H_%M_%S'\n",
        "current_date_time_dt = dt.datetime.now()\n",
        "\n",
        "current_date_time_string = dt.datetime.strftime(current_date_time_dt, date_time_format)\n",
        "model_evaluation_loss, model_evaluation_accuracy = model_evaluation_history\n",
        "model_name = f'Model___Date_Time_{current_date_time_string}___Loss_{model_evaluation_loss}___Accuracy_{model_evaluation_accuracy}.h5'\n",
        "# Saving your Model\n",
        "model.save(model_name)\n"
      ],
      "execution_count": null,
      "outputs": []
    },
    {
      "cell_type": "code",
      "metadata": {
        "id": "NZu103hhYlx6"
      },
      "source": [
        ""
      ],
      "execution_count": null,
      "outputs": []
    },
    {
      "cell_type": "code",
      "metadata": {
        "id": "_-nbSnPlHqun"
      },
      "source": [
        "labels_pred = model.predict(features_test)"
      ],
      "execution_count": 33,
      "outputs": []
    },
    {
      "cell_type": "code",
      "metadata": {
        "colab": {
          "base_uri": "https://localhost:8080/"
        },
        "id": "e0LmpspNdXNI",
        "outputId": "84bbd9a3-0547-4e06-cf21-3d0d4410dd8e"
      },
      "source": [
        "labels_pred.shape"
      ],
      "execution_count": 34,
      "outputs": [
        {
          "output_type": "execute_result",
          "data": {
            "text/plain": [
              "(4800, 12)"
            ]
          },
          "metadata": {
            "tags": []
          },
          "execution_count": 34
        }
      ]
    },
    {
      "cell_type": "code",
      "metadata": {
        "id": "qGokxP30YSoz"
      },
      "source": [
        "labels_pred = np.argmax(labels_pred, axis = 1)\n",
        "labels_test = np.argmax(labels_test, axis = 1)"
      ],
      "execution_count": 35,
      "outputs": []
    },
    {
      "cell_type": "markdown",
      "metadata": {
        "id": "YwXg6-miH63X"
      },
      "source": [
        "classification_report requires classes to be label encoded but y_test is one-hot encoded, and y_pred is also having the probability of each class. So first convert it into label encoding."
      ]
    },
    {
      "cell_type": "code",
      "metadata": {
        "colab": {
          "base_uri": "https://localhost:8080/"
        },
        "id": "0yrPPaQnH8hq",
        "outputId": "2698c52b-368c-444b-f94a-49c3ed24b3d8"
      },
      "source": [
        "from sklearn.metrics import classification_report\n",
        "print(classification_report(labels_test, labels_pred))"
      ],
      "execution_count": 36,
      "outputs": [
        {
          "output_type": "stream",
          "text": [
            "              precision    recall  f1-score   support\n",
            "\n",
            "           0       0.85      0.79      0.82       414\n",
            "           1       0.97      0.95      0.96       388\n",
            "           2       0.91      0.83      0.87       402\n",
            "           3       0.99      0.95      0.97       391\n",
            "           4       0.98      1.00      0.99       401\n",
            "           5       0.91      0.95      0.93       398\n",
            "           6       0.95      0.97      0.96       404\n",
            "           7       0.99      0.98      0.99       399\n",
            "           8       0.99      0.99      0.99       379\n",
            "           9       0.96      0.98      0.97       392\n",
            "          10       0.83      0.92      0.87       423\n",
            "          11       0.97      0.99      0.98       409\n",
            "\n",
            "    accuracy                           0.94      4800\n",
            "   macro avg       0.94      0.94      0.94      4800\n",
            "weighted avg       0.94      0.94      0.94      4800\n",
            "\n"
          ],
          "name": "stdout"
        }
      ]
    },
    {
      "cell_type": "code",
      "metadata": {
        "id": "KHS3BR9bRHl2"
      },
      "source": [
        ""
      ],
      "execution_count": 36,
      "outputs": []
    },
    {
      "cell_type": "code",
      "metadata": {
        "id": "ZluD3ROdRIHn"
      },
      "source": [
        "import matplotlib.pyplot as plt\n",
        "%matplotlib inline\n",
        "def plot_metric(metric_name_1, metric_name_2, plot_name):\n",
        "  \n",
        "  # Get Metric values using metric names as identifiers\n",
        "  metric_value_1 = model_training_history.history[metric_name_1]\n",
        "  metric_value_2 = model_training_history.history[metric_name_2] \n",
        "\n",
        "  # Constructing a range object which will be used as time\n",
        "  epochs = range(len(metric_value_1))\n",
        "\n",
        "  # Plotting the Graph\n",
        "  plt.plot(epochs, metric_value_1, 'blue', label = metric_name_1)\n",
        "  plt.plot(epochs, metric_value_2, 'red', label = metric_name_2)   \n",
        "\n",
        "  # Adding title to the plot\n",
        "\n",
        "  plt.title(str(plot_name))\n",
        "\n",
        "  # Adding legend to the plot\n",
        "  plt.legend()\n"
      ],
      "execution_count": 37,
      "outputs": []
    },
    {
      "cell_type": "markdown",
      "metadata": {
        "id": "FEb8Y2If9T4A"
      },
      "source": [
        "## **Plotting Training Loss vs Validation Loss**"
      ]
    },
    {
      "cell_type": "code",
      "metadata": {
        "colab": {
          "base_uri": "https://localhost:8080/",
          "height": 281
        },
        "id": "JbpzbX6mRe8W",
        "outputId": "f8462d5b-b811-4439-da20-8acb03d7708c"
      },
      "source": [
        "plot_metric('loss', 'val_loss', 'Total Training Loss vs Total Validation Loss')"
      ],
      "execution_count": 38,
      "outputs": [
        {
          "output_type": "display_data",
          "data": {
            "image/png": "[encoded data removed]",
            "text/plain": [
              "<Figure size 432x288 with 1 Axes>"
            ]
          },
          "metadata": {
            "tags": [],
            "needs_background": "light"
          }
        }
      ]
    },
    {
      "cell_type": "code",
      "metadata": {
        "id": "bMWl0zIpVsWI"
      },
      "source": [
        ""
      ],
      "execution_count": 38,
      "outputs": []
    },
    {
      "cell_type": "markdown",
      "metadata": {
        "id": "3koLydS69aSz"
      },
      "source": [
        "## **Plotting Training accuracy vs Validation accuracy**"
      ]
    },
    {
      "cell_type": "code",
      "metadata": {
        "colab": {
          "base_uri": "https://localhost:8080/",
          "height": 281
        },
        "id": "dKqu7XhAeMKK",
        "outputId": "fbe0e597-1bfc-41b8-df0f-6c24f48d7104"
      },
      "source": [
        "plot_metric('accuracy', 'val_accuracy', 'Training Accuracy vs Total Validation Accuracy')"
      ],
      "execution_count": 57,
      "outputs": [
        {
          "output_type": "display_data",
          "data": {
            "image/png": "[encoded data removed]",
            "text/plain": [
              "<Figure size 432x288 with 1 Axes>"
            ]
          },
          "metadata": {
            "tags": [],
            "needs_background": "light"
          }
        }
      ]
    },
    {
      "cell_type": "markdown",
      "metadata": {
        "id": "0dDGg2nluRUF"
      },
      "source": [
        "# **Designing the Model 2**"
      ]
    },
    {
      "cell_type": "code",
      "metadata": {
        "id": "pjjprCrPVs1D"
      },
      "source": [
        "import keras\n",
        "from keras.applications.vgg16 import VGG16\n",
        "from keras.layers import Dense, Input, RepeatVector, Dropout\n",
        "from keras.models import Model\n",
        "from keras.optimizers import Nadam\n",
        "from keras.layers.recurrent import LSTM\n",
        "from keras.layers.wrappers import TimeDistributed\n",
        "from keras.layers.pooling import GlobalAveragePooling2D\n",
        "from keras.layers import Conv2D, BatchNormalization, MaxPool2D, GlobalMaxPool2D\n",
        "from keras.layers import TimeDistributed, GRU, Dense, Dropout"
      ],
      "execution_count": 40,
      "outputs": []
    },
    {
      "cell_type": "markdown",
      "metadata": {
        "id": "YGue9BFPvtuv"
      },
      "source": [
        "## **Defining the input architecture for Model**"
      ]
    },
    {
      "cell_type": "code",
      "metadata": {
        "id": "KjtZA_W0xsV3"
      },
      "source": [
        ""
      ],
      "execution_count": 40,
      "outputs": []
    },
    {
      "cell_type": "markdown",
      "metadata": {
        "id": "pqCVDMonxt88"
      },
      "source": [
        "## **Encoder**"
      ]
    },
    {
      "cell_type": "code",
      "metadata": {
        "id": "IRTlQr7Eer_q"
      },
      "source": [
        "no_of_channels = 3\n",
        "timesteps = 1\n",
        "video_input = Input(shape=(timesteps,\n",
        "                           image_height,\n",
        "                            image_width,\n",
        "                            no_of_channels))"
      ],
      "execution_count": 41,
      "outputs": []
    },
    {
      "cell_type": "code",
      "metadata": {
        "colab": {
          "base_uri": "https://localhost:8080/"
        },
        "id": "nN8L7r9vvzuC",
        "outputId": "3c4ce160-79c9-462f-9383-66609f9f27b3"
      },
      "source": [
        "VGG16_base = VGG16(input_shape=(image_height,\n",
        "                              image_width,\n",
        "                              no_of_channels),\n",
        "                 weights=\"imagenet\",\n",
        "                 include_top=False)"
      ],
      "execution_count": 42,
      "outputs": [
        {
          "output_type": "stream",
          "text": [
            "Downloading data from https://storage.googleapis.com/tensorflow/keras-applications/vgg16/vgg16_weights_tf_dim_ordering_tf_kernels_notop.h5\n",
            "58892288/58889256 [==============================] - 0s 0us/step\n",
            "58900480/58889256 [==============================] - 0s 0us/step\n"
          ],
          "name": "stdout"
        }
      ]
    },
    {
      "cell_type": "code",
      "metadata": {
        "id": "Nqpcw7fSwb5x"
      },
      "source": [
        "VGG16_output = GlobalAveragePooling2D()(VGG16_base.output)"
      ],
      "execution_count": 43,
      "outputs": []
    },
    {
      "cell_type": "code",
      "metadata": {
        "id": "HJa6bDDgwxY3"
      },
      "source": [
        "VGG16_model = Model(inputs = VGG16_base.input, outputs = VGG16_output)"
      ],
      "execution_count": 44,
      "outputs": []
    },
    {
      "cell_type": "code",
      "metadata": {
        "id": "_yNuInq0xJ3l"
      },
      "source": [
        "VGG16_model.trainable = False"
      ],
      "execution_count": 45,
      "outputs": []
    },
    {
      "cell_type": "code",
      "metadata": {
        "id": "WviWoEahxmuy",
        "colab": {
          "base_uri": "https://localhost:8080/"
        },
        "outputId": "d156fa8c-f93e-46d1-e4d5-e37253e4135f"
      },
      "source": [
        "VGG16_model.summary()"
      ],
      "execution_count": 46,
      "outputs": [
        {
          "output_type": "stream",
          "text": [
            "Model: \"model\"\n",
            "_________________________________________________________________\n",
            "Layer (type)                 Output Shape              Param #   \n",
            "=================================================================\n",
            "input_2 (InputLayer)         [(None, 64, 64, 3)]       0         \n",
            "_________________________________________________________________\n",
            "block1_conv1 (Conv2D)        (None, 64, 64, 64)        1792      \n",
            "_________________________________________________________________\n",
            "block1_conv2 (Conv2D)        (None, 64, 64, 64)        36928     \n",
            "_________________________________________________________________\n",
            "block1_pool (MaxPooling2D)   (None, 32, 32, 64)        0         \n",
            "_________________________________________________________________\n",
            "block2_conv1 (Conv2D)        (None, 32, 32, 128)       73856     \n",
            "_________________________________________________________________\n",
            "block2_conv2 (Conv2D)        (None, 32, 32, 128)       147584    \n",
            "_________________________________________________________________\n",
            "block2_pool (MaxPooling2D)   (None, 16, 16, 128)       0         \n",
            "_________________________________________________________________\n",
            "block3_conv1 (Conv2D)        (None, 16, 16, 256)       295168    \n",
            "_________________________________________________________________\n",
            "block3_conv2 (Conv2D)        (None, 16, 16, 256)       590080    \n",
            "_________________________________________________________________\n",
            "block3_conv3 (Conv2D)        (None, 16, 16, 256)       590080    \n",
            "_________________________________________________________________\n",
            "block3_pool (MaxPooling2D)   (None, 8, 8, 256)         0         \n",
            "_________________________________________________________________\n",
            "block4_conv1 (Conv2D)        (None, 8, 8, 512)         1180160   \n",
            "_________________________________________________________________\n",
            "block4_conv2 (Conv2D)        (None, 8, 8, 512)         2359808   \n",
            "_________________________________________________________________\n",
            "block4_conv3 (Conv2D)        (None, 8, 8, 512)         2359808   \n",
            "_________________________________________________________________\n",
            "block4_pool (MaxPooling2D)   (None, 4, 4, 512)         0         \n",
            "_________________________________________________________________\n",
            "block5_conv1 (Conv2D)        (None, 4, 4, 512)         2359808   \n",
            "_________________________________________________________________\n",
            "block5_conv2 (Conv2D)        (None, 4, 4, 512)         2359808   \n",
            "_________________________________________________________________\n",
            "block5_conv3 (Conv2D)        (None, 4, 4, 512)         2359808   \n",
            "_________________________________________________________________\n",
            "block5_pool (MaxPooling2D)   (None, 2, 2, 512)         0         \n",
            "_________________________________________________________________\n",
            "global_average_pooling2d (Gl (None, 512)               0         \n",
            "=================================================================\n",
            "Total params: 14,714,688\n",
            "Trainable params: 0\n",
            "Non-trainable params: 14,714,688\n",
            "_________________________________________________________________\n"
          ],
          "name": "stdout"
        }
      ]
    },
    {
      "cell_type": "markdown",
      "metadata": {
        "id": "AShIX9VgxyMi"
      },
      "source": [
        "## **Decoder**"
      ]
    },
    {
      "cell_type": "code",
      "metadata": {
        "id": "SYJe91kUx1x6"
      },
      "source": [
        "video_frames_encoded = TimeDistributed(VGG16_model)(video_input)"
      ],
      "execution_count": 47,
      "outputs": []
    },
    {
      "cell_type": "code",
      "metadata": {
        "id": "45tkuxTqH2CA"
      },
      "source": [
        "no_of_classes = 12"
      ],
      "execution_count": 48,
      "outputs": []
    },
    {
      "cell_type": "code",
      "metadata": {
        "id": "FzyduC-myCs5"
      },
      "source": [
        "video_frames_encoded_sequence = LSTM(256)(video_frames_encoded)\n",
        "video_frames_encoded_sequence = Dropout(0.5)(video_frames_encoded_sequence)\n",
        "\n",
        "hidden_layer1 = Dense(1024, activation=\"relu\")(video_frames_encoded_sequence)\n",
        "hidden_layer1 = Dropout(0.5)(hidden_layer1)\n",
        "\n",
        "hidden_layer2 = Dense(512, activation=\"relu\")(hidden_layer1)\n",
        "hidden_layer2 = Dropout(0.5)(hidden_layer2)\n",
        "\n",
        "hidden_layer3 = Dense(256, activation=\"relu\")(hidden_layer2)\n",
        "hidden_layer3 = Dropout(0.25)(hidden_layer3)\n",
        "\n",
        "hidden_layer4 =  Dense(128, activation=\"relu\")(hidden_layer3)\n",
        "hidden_layer4 = Dropout(0.25)(hidden_layer4)\n",
        "\n",
        "hidden_layer5 =  Dense(64, activation=\"relu\")(hidden_layer4)\n",
        "hidden_layer5 = Dropout(0.25)(hidden_layer5)\n",
        "\n",
        "outputs = Dense(no_of_classes, activation=\"softmax\")(hidden_layer5)\n",
        "model = Model([video_input], outputs)"
      ],
      "execution_count": 49,
      "outputs": []
    },
    {
      "cell_type": "code",
      "metadata": {
        "id": "VKuHnJgTHMlh"
      },
      "source": [
        "optimizer = Nadam(lr=0.002,\n",
        "                  beta_1=0.9,\n",
        "                  beta_2=0.999,\n",
        "                  epsilon=1e-08,\n",
        "                  schedule_decay=0.004)"
      ],
      "execution_count": 50,
      "outputs": []
    },
    {
      "cell_type": "code",
      "metadata": {
        "id": "bXdEj7D7IiIw"
      },
      "source": [
        "model.compile(loss=\"categorical_crossentropy\",\n",
        "              optimizer=optimizer,\n",
        "              metrics=[\"accuracy\"]) "
      ],
      "execution_count": 51,
      "outputs": []
    },
    {
      "cell_type": "code",
      "metadata": {
        "colab": {
          "base_uri": "https://localhost:8080/"
        },
        "id": "uy5N_7Z0MeFz",
        "outputId": "0647c379-6142-4d20-aa66-ff3361a05248"
      },
      "source": [
        "model.summary()"
      ],
      "execution_count": 52,
      "outputs": [
        {
          "output_type": "stream",
          "text": [
            "Model: \"model_1\"\n",
            "_________________________________________________________________\n",
            "Layer (type)                 Output Shape              Param #   \n",
            "=================================================================\n",
            "input_1 (InputLayer)         [(None, 1, 64, 64, 3)]    0         \n",
            "_________________________________________________________________\n",
            "time_distributed (TimeDistri (None, 1, 512)            14714688  \n",
            "_________________________________________________________________\n",
            "lstm (LSTM)                  (None, 256)               787456    \n",
            "_________________________________________________________________\n",
            "dropout (Dropout)            (None, 256)               0         \n",
            "_________________________________________________________________\n",
            "dense (Dense)                (None, 1024)              263168    \n",
            "_________________________________________________________________\n",
            "dropout_1 (Dropout)          (None, 1024)              0         \n",
            "_________________________________________________________________\n",
            "dense_1 (Dense)              (None, 512)               524800    \n",
            "_________________________________________________________________\n",
            "dropout_2 (Dropout)          (None, 512)               0         \n",
            "_________________________________________________________________\n",
            "dense_2 (Dense)              (None, 256)               131328    \n",
            "_________________________________________________________________\n",
            "dropout_3 (Dropout)          (None, 256)               0         \n",
            "_________________________________________________________________\n",
            "dense_3 (Dense)              (None, 128)               32896     \n",
            "_________________________________________________________________\n",
            "dropout_4 (Dropout)          (None, 128)               0         \n",
            "_________________________________________________________________\n",
            "dense_4 (Dense)              (None, 64)                8256      \n",
            "_________________________________________________________________\n",
            "dropout_5 (Dropout)          (None, 64)                0         \n",
            "_________________________________________________________________\n",
            "dense_5 (Dense)              (None, 12)                780       \n",
            "=================================================================\n",
            "Total params: 16,463,372\n",
            "Trainable params: 1,748,684\n",
            "Non-trainable params: 14,714,688\n",
            "_________________________________________________________________\n"
          ],
          "name": "stdout"
        }
      ]
    },
    {
      "cell_type": "code",
      "metadata": {
        "id": "qtk95gojI5bj"
      },
      "source": [
        "# Adding Early Stopping Callback\n",
        "early_stopping_callback = EarlyStopping(patience=7)\n",
        "callbacks = [early_stopping_callback]"
      ],
      "execution_count": 53,
      "outputs": []
    },
    {
      "cell_type": "code",
      "metadata": {
        "colab": {
          "base_uri": "https://localhost:8080/"
        },
        "id": "SDNOVMTUJq77",
        "outputId": "5ee85917-be83-45ce-a75a-08bbbb5c018c"
      },
      "source": [
        "features_train.shape"
      ],
      "execution_count": 54,
      "outputs": [
        {
          "output_type": "execute_result",
          "data": {
            "text/plain": [
              "(19200, 1, 64, 64, 3)"
            ]
          },
          "metadata": {
            "tags": []
          },
          "execution_count": 54
        }
      ]
    },
    {
      "cell_type": "code",
      "metadata": {
        "id": "lUFvDbWTut9c"
      },
      "source": [
        "features_train = features_train.reshape(19200, 1, 64, 64, 3)"
      ],
      "execution_count": 55,
      "outputs": []
    },
    {
      "cell_type": "code",
      "metadata": {
        "colab": {
          "base_uri": "https://localhost:8080/"
        },
        "id": "cc2Zcdr1MLo-",
        "outputId": "3ddcd184-d97b-47f2-c582-6003f11c2ac8"
      },
      "source": [
        "labels_train.shape"
      ],
      "execution_count": 56,
      "outputs": [
        {
          "output_type": "execute_result",
          "data": {
            "text/plain": [
              "(19200, 12)"
            ]
          },
          "metadata": {
            "tags": []
          },
          "execution_count": 56
        }
      ]
    },
    {
      "cell_type": "code",
      "metadata": {
        "colab": {
          "base_uri": "https://localhost:8080/"
        },
        "id": "qWL0v1SVIlgY",
        "outputId": "883c4edc-be18-4dc0-8b4b-721abe3b8c71"
      },
      "source": [
        "# Start Training\n",
        "model_training_history = model.fit(x = features_train, \n",
        "                                   y = labels_train, \n",
        "                                   epochs = 30, \n",
        "                                   batch_size = 16,\n",
        "                                   shuffle = True, \n",
        "                                   validation_split = 0.2)"
      ],
      "execution_count": null,
      "outputs": [
        {
          "output_type": "stream",
          "text": [
            "Epoch 1/30\n",
            "960/960 [==============================] - 72s 18ms/step - loss: 2.0940 - accuracy: 0.2437 - val_loss: 1.0764 - val_accuracy: 0.6039\n",
            "Epoch 2/30\n",
            "960/960 [==============================] - 15s 16ms/step - loss: 1.2142 - accuracy: 0.6060 - val_loss: 0.7096 - val_accuracy: 0.7737\n",
            "Epoch 3/30\n",
            "960/960 [==============================] - 16s 16ms/step - loss: 0.9134 - accuracy: 0.7002 - val_loss: 0.6286 - val_accuracy: 0.8055\n",
            "Epoch 4/30\n",
            "960/960 [==============================] - 16s 16ms/step - loss: 0.8673 - accuracy: 0.7330 - val_loss: 0.5152 - val_accuracy: 0.8513\n",
            "Epoch 5/30\n",
            "960/960 [==============================] - 16s 16ms/step - loss: 0.7229 - accuracy: 0.7877 - val_loss: 0.3742 - val_accuracy: 0.8956\n",
            "Epoch 6/30\n",
            "960/960 [==============================] - 15s 16ms/step - loss: 0.6509 - accuracy: 0.8108 - val_loss: 0.3653 - val_accuracy: 0.9094\n",
            "Epoch 7/30\n",
            "960/960 [==============================] - 16s 16ms/step - loss: 0.6135 - accuracy: 0.8336 - val_loss: 0.3160 - val_accuracy: 0.9164\n",
            "Epoch 8/30\n",
            "960/960 [==============================] - 16s 16ms/step - loss: 0.5803 - accuracy: 0.8393 - val_loss: 0.2793 - val_accuracy: 0.9237\n",
            "Epoch 9/30\n",
            "960/960 [==============================] - 16s 16ms/step - loss: 0.5302 - accuracy: 0.8576 - val_loss: 0.2874 - val_accuracy: 0.9247\n",
            "Epoch 10/30\n",
            "960/960 [==============================] - 16s 16ms/step - loss: 0.5149 - accuracy: 0.8601 - val_loss: 0.2969 - val_accuracy: 0.9253\n",
            "Epoch 11/30\n",
            "960/960 [==============================] - 16s 16ms/step - loss: 0.5129 - accuracy: 0.8653 - val_loss: 0.3657 - val_accuracy: 0.9086\n",
            "Epoch 12/30\n",
            "960/960 [==============================] - 16s 16ms/step - loss: 0.4924 - accuracy: 0.8703 - val_loss: 0.2328 - val_accuracy: 0.9372\n",
            "Epoch 13/30\n",
            "960/960 [==============================] - 16s 16ms/step - loss: 0.4620 - accuracy: 0.8752 - val_loss: 0.2405 - val_accuracy: 0.9362\n",
            "Epoch 14/30\n",
            "960/960 [==============================] - 16s 16ms/step - loss: 0.5229 - accuracy: 0.8689 - val_loss: 0.2134 - val_accuracy: 0.9482\n",
            "Epoch 15/30\n",
            "960/960 [==============================] - 16s 16ms/step - loss: 0.4596 - accuracy: 0.8833 - val_loss: 0.2184 - val_accuracy: 0.9466\n",
            "Epoch 16/30\n",
            "960/960 [==============================] - 16s 16ms/step - loss: 0.4358 - accuracy: 0.8859 - val_loss: 0.2116 - val_accuracy: 0.9495\n",
            "Epoch 17/30\n",
            "960/960 [==============================] - 16s 17ms/step - loss: 0.4373 - accuracy: 0.8889 - val_loss: 0.1919 - val_accuracy: 0.9529\n",
            "Epoch 18/30\n",
            "960/960 [==============================] - 16s 16ms/step - loss: 0.4328 - accuracy: 0.8889 - val_loss: 0.1928 - val_accuracy: 0.9531\n",
            "Epoch 19/30\n",
            "960/960 [==============================] - 16s 17ms/step - loss: 0.4099 - accuracy: 0.8939 - val_loss: 0.1866 - val_accuracy: 0.9529\n",
            "Epoch 20/30\n",
            "960/960 [==============================] - 16s 17ms/step - loss: 0.4578 - accuracy: 0.8863 - val_loss: 0.2110 - val_accuracy: 0.9555\n",
            "Epoch 21/30\n",
            "960/960 [==============================] - 16s 16ms/step - loss: 0.4095 - accuracy: 0.8988 - val_loss: 0.2073 - val_accuracy: 0.9471\n",
            "Epoch 22/30\n",
            "960/960 [==============================] - 16s 16ms/step - loss: 0.4412 - accuracy: 0.8946 - val_loss: 0.1971 - val_accuracy: 0.9508\n",
            "Epoch 23/30\n",
            "960/960 [==============================] - 16s 16ms/step - loss: 0.4208 - accuracy: 0.8936 - val_loss: 0.1932 - val_accuracy: 0.9544\n",
            "Epoch 24/30\n",
            "960/960 [==============================] - 16s 16ms/step - loss: 0.4201 - accuracy: 0.8955 - val_loss: 0.1766 - val_accuracy: 0.9557\n",
            "Epoch 25/30\n",
            "960/960 [==============================] - 16s 16ms/step - loss: 0.3876 - accuracy: 0.9002 - val_loss: 0.2034 - val_accuracy: 0.9526\n",
            "Epoch 26/30\n",
            "960/960 [==============================] - 16s 16ms/step - loss: 0.4068 - accuracy: 0.9025 - val_loss: 0.1800 - val_accuracy: 0.9544\n",
            "Epoch 27/30\n",
            "960/960 [==============================] - 16s 16ms/step - loss: 0.4054 - accuracy: 0.8986 - val_loss: 0.1875 - val_accuracy: 0.9549\n",
            "Epoch 28/30\n",
            "960/960 [==============================] - 15s 16ms/step - loss: 0.4316 - accuracy: 0.8934 - val_loss: 0.1707 - val_accuracy: 0.9560\n",
            "Epoch 29/30\n",
            "960/960 [==============================] - 16s 16ms/step - loss: 0.3657 - accuracy: 0.9077 - val_loss: 0.2082 - val_accuracy: 0.9523\n",
            "Epoch 30/30\n",
            "960/960 [==============================] - 15s 16ms/step - loss: 0.3833 - accuracy: 0.9093 - val_loss: 0.1832 - val_accuracy: 0.9542\n"
          ],
          "name": "stdout"
        }
      ]
    },
    {
      "cell_type": "code",
      "metadata": {
        "id": "aCylmQLSxaRq"
      },
      "source": [
        ""
      ],
      "execution_count": null,
      "outputs": []
    },
    {
      "cell_type": "code",
      "metadata": {
        "colab": {
          "base_uri": "https://localhost:8080/"
        },
        "id": "9giGCrCe6mxo",
        "outputId": "6e7c9dd6-178b-4377-ca93-383a817cd4ac"
      },
      "source": [
        "features_test.shape"
      ],
      "execution_count": null,
      "outputs": [
        {
          "output_type": "execute_result",
          "data": {
            "text/plain": [
              "(4800, 64, 64, 3)"
            ]
          },
          "metadata": {
            "tags": []
          },
          "execution_count": 43
        }
      ]
    },
    {
      "cell_type": "code",
      "metadata": {
        "id": "VzA4Enbn6nej"
      },
      "source": [
        "features_test = features_test.reshape(4800,1, 64, 64, 3)"
      ],
      "execution_count": null,
      "outputs": []
    },
    {
      "cell_type": "code",
      "metadata": {
        "colab": {
          "base_uri": "https://localhost:8080/"
        },
        "id": "KX5c2MXS61mi",
        "outputId": "0191c823-14e0-4a76-bef9-21200b85cab5"
      },
      "source": [
        "import datetime as dt\n",
        "\n",
        "model2_evaluation_history = model.evaluate(features_test, labels_test)\n",
        "\n",
        "date_time_format = '%Y_%m_%d__%H_%M_%S'\n",
        "current_date_time_dt = dt.datetime.now()\n",
        "\n",
        "current_date_time_string = dt.datetime.strftime(current_date_time_dt, date_time_format)\n",
        "model_evaluation_loss, model_evaluation_accuracy = model2_evaluation_history\n",
        "model_name = f'Model___Date_Time_{current_date_time_string}___Loss_{model_evaluation_loss}___Accuracy_{model_evaluation_accuracy}.h5'\n",
        "# Saving your Model\n",
        "model.save(model_name)\n"
      ],
      "execution_count": null,
      "outputs": [
        {
          "output_type": "stream",
          "text": [
            "150/150 [==============================] - 5s 15ms/step - loss: 0.1548 - accuracy: 0.9631\n"
          ],
          "name": "stdout"
        }
      ]
    },
    {
      "cell_type": "code",
      "metadata": {
        "id": "evtrD0Om7o47"
      },
      "source": [
        "labels_pred = model.predict(features_test)"
      ],
      "execution_count": null,
      "outputs": []
    },
    {
      "cell_type": "code",
      "metadata": {
        "id": "OXRV9bpq_CO0"
      },
      "source": [
        "labels_pred = np.argmax(labels_pred, axis = 1)\n",
        "labels_test = np.argmax(labels_test, axis = 1)"
      ],
      "execution_count": null,
      "outputs": []
    },
    {
      "cell_type": "code",
      "metadata": {
        "id": "FFRHhl4D_I8Q"
      },
      "source": [
        "import matplotlib.pyplot as plt\n",
        "%matplotlib inline\n",
        "def plot_metric(measure_name_1, measure_name_2, plot_title):\n",
        "  \n",
        " \n",
        "  measure_value_1 = model_training_history.history[measure_name_1]\n",
        "  measure_value_2 = model_training_history.history[measure_name_2] \n",
        "  epochs = range(len(measure_value_1))\n",
        "\n",
        "  plt.plot(epochs, measure_value_1, 'blue', label = measure_name_1)\n",
        "  plt.plot(epochs, measure_value_2, 'red', label = measure_name_2)   \n",
        "\n",
        "  plt.title(str(plot_title))\n",
        "  plt.legend()\n"
      ],
      "execution_count": null,
      "outputs": []
    },
    {
      "cell_type": "code",
      "metadata": {
        "colab": {
          "base_uri": "https://localhost:8080/",
          "height": 281
        },
        "id": "QX1_YXAU_Xko",
        "outputId": "6824d852-8fe2-47d4-fb55-74fdef6826e1"
      },
      "source": [
        "plot_metric('loss', 'val_loss', 'Total Training Loss vs Total Validation Loss')"
      ],
      "execution_count": null,
      "outputs": [
        {
          "output_type": "display_data",
          "data": {
            "image/png": "[encoded data removed]",
            "text/plain": [
              "<Figure size 432x288 with 1 Axes>"
            ]
          },
          "metadata": {
            "tags": [],
            "needs_background": "light"
          }
        }
      ]
    },
    {
      "cell_type": "code",
      "metadata": {
        "colab": {
          "base_uri": "https://localhost:8080/",
          "height": 281
        },
        "id": "PO-zDKOd_cSM",
        "outputId": "d1a01c0e-0bff-44b1-a5cc-a83f12b44f9d"
      },
      "source": [
        "plot_metric('accuracy', 'val_accuracy', 'Total Accuracy vs Total Validation Accuracy')"
      ],
      "execution_count": null,
      "outputs": [
        {
          "output_type": "display_data",
          "data": {
            "image/png": "[encoded data removed]",
            "text/plain": [
              "<Figure size 432x288 with 1 Axes>"
            ]
          },
          "metadata": {
            "tags": [],
            "needs_background": "light"
          }
        }
      ]
    },
    {
      "cell_type": "code",
      "metadata": {
        "id": "jkigrsz__kte"
      },
      "source": [
        ""
      ],
      "execution_count": null,
      "outputs": []
    }
  ]
}